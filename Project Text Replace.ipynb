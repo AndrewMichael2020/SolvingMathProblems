{
  "nbformat": 4,
  "nbformat_minor": 0,
  "metadata": {
    "colab": {
      "name": "MasPy_TextReplace_helper.ipynb",
      "provenance": [],
      "collapsed_sections": [],
      "include_colab_link": true
    },
    "kernelspec": {
      "name": "python3",
      "display_name": "Python 3"
    }
  },
  "cells": [
    {
      "cell_type": "markdown",
      "metadata": {
        "id": "view-in-github",
        "colab_type": "text"
      },
      "source": [
        "<a href=\"https://colab.research.google.com/github/AndrewMichael2020/SolvingMathProblems/blob/main/Project%20Text%20Replace.ipynb\" target=\"_parent\"><img src=\"https://colab.research.google.com/assets/colab-badge.svg\" alt=\"Open In Colab\"/></a>"
      ]
    },
    {
      "cell_type": "markdown",
      "metadata": {
        "id": "bhWV8oes-wKR"
      },
      "source": [
        "# COURSE: Master Python for scientific programming by solving projects\n",
        "## PROJECT: Text search and replace\n",
        "#### TEACHER: Mike X Cohen, sincxpress.com\n",
        "##### COURSE URL: udemy.com/course/maspy_x/?couponCode=202201"
      ]
    },
    {
      "cell_type": "code",
      "source": [
        "from google.colab import drive\n",
        "drive.mount('/content/drive')"
      ],
      "metadata": {
        "colab": {
          "base_uri": "https://localhost:8080/"
        },
        "id": "ol_WZR4jn4Uj",
        "outputId": "7a693426-5007-47fd-fb6a-6a1412f11920"
      },
      "execution_count": 3,
      "outputs": [
        {
          "output_type": "stream",
          "name": "stdout",
          "text": [
            "Mounted at /content/drive\n"
          ]
        }
      ]
    },
    {
      "cell_type": "code",
      "metadata": {
        "id": "JL_0UKJOj1YP"
      },
      "source": [
        "# import all necessary modules\n",
        "from google.colab import files\n",
        "import re\n",
        "import string\n",
        "import numpy as np"
      ],
      "execution_count": 4,
      "outputs": []
    },
    {
      "cell_type": "markdown",
      "metadata": {
        "id": "dqmU7gnmbu8L"
      },
      "source": [
        "# Import a text file"
      ]
    },
    {
      "cell_type": "code",
      "metadata": {
        "id": "82RcRrWTcNa8",
        "colab": {
          "resources": {
            "http://localhost:8080/nbextensions/google.colab/files.js": {
              "data": "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",
              "ok": true,
              "headers": [
                [
                  "content-type",
                  "application/javascript"
                ]
              ],
              "status": 200,
              "status_text": ""
            }
          },
          "base_uri": "https://localhost:8080/",
          "height": 73
        },
        "outputId": "c0db2a73-bdf2-4629-8c3f-4dcc3b448294"
      },
      "source": [
        "# upload the file \"captions_text.vtt\"\n",
        "\n",
        "fil = files.upload()\n"
      ],
      "execution_count": 5,
      "outputs": [
        {
          "output_type": "display_data",
          "data": {
            "text/plain": [
              "<IPython.core.display.HTML object>"
            ],
            "text/html": [
              "\n",
              "     <input type=\"file\" id=\"files-def1aff6-d68e-4928-8045-8f5840a9e568\" name=\"files[]\" multiple disabled\n",
              "        style=\"border:none\" />\n",
              "     <output id=\"result-def1aff6-d68e-4928-8045-8f5840a9e568\">\n",
              "      Upload widget is only available when the cell has been executed in the\n",
              "      current browser session. Please rerun this cell to enable.\n",
              "      </output>\n",
              "      <script src=\"/nbextensions/google.colab/files.js\"></script> "
            ]
          },
          "metadata": {}
        },
        {
          "output_type": "stream",
          "name": "stdout",
          "text": [
            "Saving captions_text.vtt to captions_text.vtt\n"
          ]
        }
      ]
    },
    {
      "cell_type": "code",
      "metadata": {
        "id": "yl9WcPCUc_Pr",
        "colab": {
          "base_uri": "https://localhost:8080/",
          "height": 276
        },
        "outputId": "f78b9ffd-060c-4045-eed2-1282fd9e914f"
      },
      "source": [
        "# look at the type and length of variable 'file'.\n",
        "\n",
        "# extract just the text from the variable 'file' into a variable 'text'\n",
        "\n",
        "print(type(fil))\n",
        "print(len(fil))\n",
        "\n",
        "fil.keys()\n",
        "\n",
        "key = list(fil.keys())\n",
        "print ( 'This is the dictionary key: \\n The dict has only one key which is [0] \\n ' + str (key) + '\\n')\n",
        "\n",
        "text = str( fil[key[0]] ) # dict has only one key which is [0]\n",
        "\n",
        "print ('This is the text to analyze (as String rather than Byte type): \\n')\n",
        "str(text)"
      ],
      "execution_count": 6,
      "outputs": [
        {
          "output_type": "stream",
          "name": "stdout",
          "text": [
            "<class 'dict'>\n",
            "1\n",
            "This is the dictionary key: \n",
            " The dict has only one key which is [0] \n",
            " ['captions_text.vtt']\n",
            "\n",
            "This is the text to analyze (as String rather than Byte type): \n",
            "\n"
          ]
        },
        {
          "output_type": "execute_result",
          "data": {
            "text/plain": [
              "'b\"WEBVTT\\\\n\\\\n0\\\\n00:00.760 --> 00:05.080\\\\nI\\'m now going to give you two more example problems of computing.\\\\n\\\\n1\\\\n00:05.080 --> 00:09.310\\\\neigendecomposition of matrices by hand.\\\\n\\\\n2\\\\n00:09.310 --> 00:14.860\\\\nObviously this is on the computer but I encourage you to do these problems by hand and they\\'re not done\\\\n\\\\n3\\\\n00:14.860 --> 00:15.520\\\\nin Matlab.\\\\n\\\\n4\\\\n00:15.520 --> 00:19.270\\\\nSo I guess that\\'s what it means by hand.\\\\n\\\\n5\\\\n00:19.270 --> 00:20.530\\\\nSo let\\'s get started.\\\\n\\\\n6\\\\n00:20.560 --> 00:28.030\\\\nHere is a two by two matrix and you should pause the video go through find the eigenvalues and the eigenvectors\\\\n\\\\n7\\\\n00:28.060 --> 00:37.120\\\\nof this matrix so the way we start is by shifting the matrix by Lambda so subtracting lambda from the\\\\n\\\\n8\\\\n00:37.120 --> 00:44.260\\\\ndiagonal elements setting the determinant equal to zero and then proceeding to compute the determinant\\\\n\\\\n9\\\\n00:44.290 --> 00:48.820\\\\nwhich is also called the characteristic equation of this matrix.\\\\n\\\\n10\\\\n00:48.850 --> 00:57.730\\\\nSo that works out to be three minus lambda times six minus lambda minus four equals zero and then expanding\\\\n\\\\n11\\\\n00:57.760 --> 01:04.600\\\\nthese two terms multiplying out these two terms and then collecting the like terms gives us lambda squared\\\\n\\\\n12\\\\n01:04.960 --> 01:13.930\\\\nminus nine lambda plus fourteen equals zero and then this expression here can be factored into lambda\\\\n\\\\n13\\\\n01:14.020 --> 01:22.150\\\\nminus seven and Lambda minus two and now it\\'s pretty easy to see that the two lambdas that will solve\\\\n\\\\n14\\\\n01:22.150 --> 01:24.280\\\\nthis equation that solve this equation.\\\\n\\\\n15\\\\n01:24.280 --> 01:30.910\\\\nIn other words the two eigenvalues of this matrix are plus 7 and plus two.\\\\n\\\\n16\\\\n01:30.910 --> 01:37.180\\\\nSo that was step one we found the eigenvalues of this matrix and now we go through for each of these\\\\n\\\\n17\\\\n01:37.180 --> 01:45.160\\\\neigenvalues shift the matrix by that amount by that value and then figure out what is a vector in the\\\\n\\\\n18\\\\n01:45.280 --> 01:48.410\\\\nshifted matrices null space.\\\\n\\\\n19\\\\n01:48.630 --> 01:50.530\\\\nOK so let\\'s start with 2.\\\\n\\\\n20\\\\n01:50.580 --> 01:53.610\\\\nSo this gives us the matrix 1 1 4 4.\\\\n\\\\n21\\\\n01:53.610 --> 02:00.360\\\\nAnd now we want to find the missing vector here and you\\'ve probably guessed it already it is 1 minus\\\\n\\\\n22\\\\n02:00.360 --> 02:01.470\\\\n1.\\\\n\\\\n23\\\\n02:01.590 --> 02:09.330\\\\nAnd of course you know that also acceptable would be minus 1 1 or minus quadrillion plus quadrillion.\\\\n\\\\n24\\\\n02:09.570 --> 02:17.130\\\\nThis vector simply identifies a subspace for the null space of this shifted matrix in any vector that\\'s\\\\n\\\\n25\\\\n02:17.250 --> 02:23.520\\\\nin that null space is perfectly fine as an eigenvector.\\\\n\\\\n26\\\\n02:23.520 --> 02:31.860\\\\nNow that said the best choice for an eigenvector would be a vector that has a norm of 1 a magnitude\\\\n\\\\n27\\\\n02:31.860 --> 02:32.710\\\\nof 1.\\\\n\\\\n28\\\\n02:32.940 --> 02:39.270\\\\nAnd the second best choice would be integer values that are easy to interpret and compact to write like\\\\n\\\\n29\\\\n02:39.270 --> 02:40.230\\\\nthis.\\\\n\\\\n30\\\\n02:40.230 --> 02:40.500\\\\nAll right.\\\\n\\\\n31\\\\n02:40.520 --> 02:41.730\\\\nSo this was for two.\\\\n\\\\n32\\\\n02:41.730 --> 02:49.350\\\\nNow we go to the second eigenvalues which was seven and that gives us this matrix minus 4 1 and 4 minus\\\\n\\\\n33\\\\n02:49.350 --> 02:50.300\\\\n1.\\\\n\\\\n34\\\\n02:50.370 --> 02:57.210\\\\nAnd here a vector that could work as an eigenvector as a basis for the null space of this shifted matrix\\\\n\\\\n35\\\\n02:57.300 --> 02:59.790\\\\nis the numbers 1 4.\\\\n\\\\n36\\\\n02:59.820 --> 03:06.690\\\\nSo here is the big picture overview we have this matrix and here you see the eigenvalue and its corresponding\\\\n\\\\n37\\\\n03:06.690 --> 03:12.010\\\\neigenvector and the other eigenvalue and the other corresponding eigenvector.\\\\n\\\\n38\\\\n03:12.060 --> 03:14.080\\\\nNow your results will be correct.\\\\n\\\\n39\\\\n03:14.190 --> 03:21.960\\\\nIf you have the correct pairing of eigenvalue and any multiple any scaled version of this vector; it\\\\n\\\\n40\\\\n03:21.960 --> 03:28.860\\\\ndoesn\\'t matter if you call this lambda one and this V one that\\'s fine because there\\'s no intrinsic ordering.\\\\n\\\\n41\\\\n03:28.860 --> 03:32.250\\\\nWhat matters is that you have the pairing correct.\\\\n\\\\n42\\\\n03:32.250 --> 03:32.470\\\\nAll right.\\\\n\\\\n43\\\\n03:32.490 --> 03:34.310\\\\nSo that was the two by two case.\\\\n\\\\n44\\\\n03:34.380 --> 03:37.080\\\\nNow let\\'s go for a three by three case.\\\\n\\\\n45\\\\n03:37.080 --> 03:40.160\\\\nThis one is a little bit more challenging and I have to admit.\\\\n\\\\n46\\\\n03:40.200 --> 03:45.660\\\\nSo I first came up with these numbers and then I started computing the eigendecomposition.\\\\n\\\\n47\\\\n03:45.660 --> 03:50.480\\\\nNow I have to admit that I got stuck on one of the eigenvectors.\\\\n\\\\n48\\\\n03:50.670 --> 03:52.400\\\\nI couldn\\'t quite figure it out on my own.\\\\n\\\\n49\\\\n03:52.430 --> 03:54.390\\\\nSo I used Matlab to compute that\\\\n\\\\n50\\\\n03:54.390 --> 03:55.200\\\\neigenvector.\\\\n\\\\n51\\\\n03:55.500 --> 04:04.490\\\\nSo what I encourage you to do is find all three eigenvalues by hand and I think it will be pretty obvious\\\\n\\\\n52\\\\n04:04.490 --> 04:08.390\\\\nwhen you start working through it which is the difficult eigenvalue.\\\\n\\\\n53\\\\n04:08.390 --> 04:15.530\\\\nSo then what you should do by hand is find two of the eigenvectors that you can get basically just by\\\\n\\\\n54\\\\n04:15.800 --> 04:18.920\\\\nkind of eyeballing and making some educated guesses.\\\\n\\\\n55\\\\n04:18.920 --> 04:24.860\\\\nAnd then the third eigenvector you can use a computer to solve or you can just wait and watch me come\\\\n\\\\n56\\\\n04:24.860 --> 04:26.660\\\\nup with a solution.\\\\n\\\\n57\\\\n04:26.850 --> 04:27.090\\\\nAll right.\\\\n\\\\n58\\\\n04:27.120 --> 04:34.590\\\\nSo again we start by shifting this matrix by minus lambda setting the determinant equal to zero and\\\\n\\\\n59\\\\n04:34.590 --> 04:40.770\\\\nthen proceeding to compute the determinant of this equation and altogether that gives us the characteristic\\\\n\\\\n60\\\\n04:40.830 --> 04:43.560\\\\nequation of this matrix.\\\\n\\\\n61\\\\n04:43.560 --> 04:45.270\\\\nNow this is a little bit longer.\\\\n\\\\n62\\\\n04:45.270 --> 04:50.820\\\\nIt\\'s a little bit trickier the arithmetic gets a little bit hairy in particular you end up with this\\\\n\\\\n63\\\\n04:50.910 --> 04:59.240\\\\nminus lambda cubed term as well as a couple of multiple terms with Lambda and Lambda squared.\\\\n\\\\n64\\\\n04:59.250 --> 05:05.490\\\\nNow once you collect all of these like terms you\\'ll end up with an expression that looks like this.\\\\n\\\\n65\\\\n05:05.520 --> 05:15.240\\\\nSo it should be minus lambda cubed plus 10 times lambda squared plus eleven lambda equals zero Now something\\\\n\\\\n66\\\\n05:15.270 --> 05:22.030\\\\ninteresting has happened here all of these terms have a lambda attached to them which means that we\\\\n\\\\n67\\\\n05:22.030 --> 05:29.950\\\\ncan take a lambda out of each of these terms and rewrite this expression as minus lambda times.\\\\n\\\\n68\\\\n05:29.980 --> 05:36.160\\\\nAll of this stuff and immediately that tells us that lambda equals zero is a solution.\\\\n\\\\n69\\\\n05:36.160 --> 05:43.030\\\\nSo when you set this lambda to be zero it doesn\\'t actually matter what\\'s inside this parenthetical statement\\\\n\\\\n70\\\\n05:43.360 --> 05:47.390\\\\nthat\\'s immediately going to set to make this equation true.\\\\n\\\\n71\\\\n05:47.440 --> 05:55.300\\\\nThat means that one of the eigenvalues of this matrix is zero and I\\'m going to have an entire video\\\\n\\\\n72\\\\n05:55.330 --> 05:59.140\\\\njust about this phenomenon a little bit later in this section.\\\\n\\\\n73\\\\n05:59.140 --> 06:03.550\\\\nBut essentially when an eigenvector is an eigenvalue is zero.\\\\n\\\\n74\\\\n06:03.730 --> 06:10.360\\\\nIt means that the matrix is singular and that you can actually see by looking at this matrix and you\\\\n\\\\n75\\\\n06:10.360 --> 06:19.080\\\\nsee that column 1 plus column 2 equals column 3 so whenever you have a singular matrix at least one\\\\n\\\\n76\\\\n06:19.140 --> 06:22.110\\\\neigenvalues value is going to be equal to zero.\\\\n\\\\n77\\\\n06:22.170 --> 06:30.450\\\\nAnd in fact the number of eigenvalues that are equal to zero tells you about the rank of this matrix.\\\\n\\\\n78\\\\n06:30.490 --> 06:33.870\\\\nMore on that in the later video.\\\\n\\\\n79\\\\n06:33.880 --> 06:39.160\\\\nNow once you\\'ve gotten to this step you can further factor this equation and you end up with the result\\\\n\\\\n80\\\\n06:39.160 --> 06:44.360\\\\nthat lambda equals zero lambda equals minus 1 and Lambda equals eleven.\\\\n\\\\n81\\\\n06:44.590 --> 06:50.110\\\\nSo you can probably guess that this is going to be the tricky I can value to compute the corresponding\\\\n\\\\n82\\\\n06:50.110 --> 06:55.600\\\\nI can vector of and this is the one that I got a little bit stuck with.\\\\n\\\\n83\\\\n06:55.600 --> 06:57.490\\\\nAnd so I used Matlab as a crutch.\\\\n\\\\n84\\\\n06:57.490 --> 06:58.540\\\\nI cheated a little bit.\\\\n\\\\n85\\\\n06:59.250 --> 07:01.500\\\\nOK so but let\\'s go through all of these.\\\\n\\\\n86\\\\n07:01.840 --> 07:07.840\\\\nSo we start with zero and now this is kind of a funny thing because we are shifting the matrix by zero\\\\n\\\\n87\\\\n07:08.200 --> 07:10.970\\\\nwhich actually means we\\'re not changing the matrix at all.\\\\n\\\\n88\\\\n07:11.140 --> 07:21.000\\\\nAnd that means that this matrix A already has a non-trivial null space even without doing any shifting.\\\\n\\\\n89\\\\n07:21.130 --> 07:28.010\\\\nSo this problem actually boils down to finding a vector in the null space or a basis for the null space.\\\\n\\\\n90\\\\n07:28.270 --> 07:35.380\\\\nEven without doing any shifting so based on what I just told you about how do I set up this matrix that\\\\n\\\\n91\\\\n07:35.660 --> 07:42.950\\\\ncolumn one plus column two equals column three a basis for the null space is 1 one minus 1.\\\\n\\\\n92\\\\n07:42.970 --> 07:49.130\\\\nSo you can try for each of these rows the first column plus the second column minus the third column\\\\n\\\\n93\\\\n07:49.220 --> 07:52.090\\\\nequals zero all right.\\\\n\\\\n94\\\\n07:52.100 --> 07:53.270\\\\nSo now let\\'s move on.\\\\n\\\\n95\\\\n07:53.270 --> 07:59.350\\\\nSo now we shift this matrix by eleven and this is basically where I got stuck and switch to matlab.\\\\n\\\\n96\\\\n07:59.360 --> 08:04.570\\\\nSo it turns out that eigenvector is nineteen forty one and thirty six.\\\\n\\\\n97\\\\n08:04.580 --> 08:10.430\\\\nSo if you figured out this I can vector on your own without using a computer then good for you you are\\\\n\\\\n98\\\\n08:10.460 --> 08:14.960\\\\na better or at least more patient mathematician than I am.\\\\n\\\\n99\\\\n08:15.200 --> 08:19.210\\\\nAnd then we get to the third eigenvalue which was minus one.\\\\n\\\\n100\\\\n08:19.220 --> 08:21.130\\\\nSo now that becomes plus one.\\\\n\\\\n101\\\\n08:21.230 --> 08:26.390\\\\nAnd here is that shifted matrix and this one you should be able to solve on your own.\\\\n\\\\n102\\\\n08:26.480 --> 08:28.810\\\\nIn fact it\\'s even easier than it looks.\\\\n\\\\n103\\\\n08:28.820 --> 08:35.930\\\\nAnd if you need a hint before I show the answer then the hint is just consider that this third column\\\\n\\\\n104\\\\n08:36.020 --> 08:42.340\\\\nis actually pretty useless if you get rid of this third column it becomes really easy to find the \\\\n\\\\n105\\\\n08:42.380 --> 08:46.520\\\\neigenvector in this shifted matrices null space.\\\\n\\\\n106\\\\n08:46.790 --> 08:52.400\\\\nSo in fact it\\'s one minus one and then zero you just set the third element to be zero.\\\\n\\\\n107\\\\n08:52.670 --> 08:59.810\\\\nSo that leads us to the big picture overview of the eigendecomposition of this three by three singular\\\\n\\\\n108\\\\n08:59.810 --> 09:06.130\\\\nmatrix rank 2 matrix we have eigenvalues 0 minus 11 and minus 1.\\\\n\\\\n109\\\\n09:06.200 --> 09:09.200\\\\nAnd these are the corresponding eigenvectors.\\\\n\\\\n110\\\\n09:09.200 --> 09:12.430\\\\nAnd notice I\\'ve written them as row vectors and then transpose.\\\\n\\\\n111\\\\n09:12.430 --> 09:19.160\\\\nSo these are still column vectors we generally always think about eigenvectors as column vectors and\\\\n\\\\n112\\\\n09:19.160 --> 09:25.640\\\\nyou will learn more about why that is the case in the video on diagonalization, which is coming up soon.\"'"
            ],
            "application/vnd.google.colaboratory.intrinsic+json": {
              "type": "string"
            }
          },
          "metadata": {},
          "execution_count": 6
        }
      ]
    },
    {
      "cell_type": "code",
      "metadata": {
        "id": "z7jPTXCniDnM"
      },
      "source": [
        ""
      ],
      "execution_count": null,
      "outputs": []
    },
    {
      "cell_type": "markdown",
      "metadata": {
        "id": "0pGZgggkiHXs"
      },
      "source": [
        "# Remove formatting text"
      ]
    },
    {
      "cell_type": "code",
      "metadata": {
        "id": "IPwVS7KNl791",
        "colab": {
          "base_uri": "https://localhost:8080/"
        },
        "outputId": "8ab10de6-9972-4cf3-f02f-d3d10e110b12"
      },
      "source": [
        "# quick intro to matching with regex\n",
        "sentence = \"Hi, my name is Mike and I like to eat Mike's purple chocolate.\"\n",
        "\n",
        "regex_name = re.compile('Mike')\n",
        "regex_name.findall ( sentence )\n",
        "# find all occurences of 'Mike'"
      ],
      "execution_count": 7,
      "outputs": [
        {
          "output_type": "execute_result",
          "data": {
            "text/plain": [
              "['Mike', 'Mike']"
            ]
          },
          "metadata": {},
          "execution_count": 7
        }
      ]
    },
    {
      "cell_type": "code",
      "metadata": {
        "id": "EDOWrWczmcMB",
        "colab": {
          "base_uri": "https://localhost:8080/",
          "height": 37
        },
        "outputId": "8281de7e-cb99-4100-88aa-cacc767699ef"
      },
      "source": [
        "# substitution: replace 'Mike' with 'Author' \n",
        "\n",
        "regex_name.sub ('Author' , sentence )\n"
      ],
      "execution_count": 8,
      "outputs": [
        {
          "output_type": "execute_result",
          "data": {
            "text/plain": [
              "\"Hi, my name is Author and I like to eat Author's purple chocolate.\""
            ],
            "application/vnd.google.colaboratory.intrinsic+json": {
              "type": "string"
            }
          },
          "metadata": {},
          "execution_count": 8
        }
      ]
    },
    {
      "cell_type": "code",
      "metadata": {
        "id": "3Z9IjJ-Bmpua",
        "colab": {
          "base_uri": "https://localhost:8080/",
          "height": 37
        },
        "outputId": "5b0614dd-b56b-4c6d-d5c7-513500abc29f"
      },
      "source": [
        "# searching with wildcards\n",
        "sentence = \"Hi, my name is Mike and I like to eat Muke's purple chocolate.\"\n",
        "regex_name = re.compile (r'M\\wke') \n",
        "# find all instances of M< >ke, where < > is any possible letter: \\w (= % in SQL)\n",
        "regex_name.findall ( sentence )\n",
        "regex_name.sub ('Mike' , sentence )\n"
      ],
      "execution_count": 11,
      "outputs": [
        {
          "output_type": "execute_result",
          "data": {
            "text/plain": [
              "\"Hi, my name is Mike and I like to eat Mike's purple chocolate.\""
            ],
            "application/vnd.google.colaboratory.intrinsic+json": {
              "type": "string"
            }
          },
          "metadata": {},
          "execution_count": 11
        }
      ]
    },
    {
      "cell_type": "code",
      "metadata": {
        "id": "c9MlwfgAdwT5",
        "colab": {
          "base_uri": "https://localhost:8080/",
          "height": 140
        },
        "outputId": "06f7ef16-9b1f-4cdd-df37-5dd65efd6f9b"
      },
      "source": [
        "# character strings to replace with space\n",
        "'\\n\\n?\\n??:??.??? --> ??:??.??\\n'\n",
        "\n",
        "pattern2replace = r'\\\\n\\\\n\\d\\\\n\\d\\d:\\d\\d.\\d\\d\\d --> \\d\\d:\\d\\d.\\d\\d\\d\\\\n'\n",
        "\n",
        "# replace anything match the above pattern with a space\n",
        "\n",
        "regex_name = re.compile (str (pattern2replace) )\n",
        "# find all instances of M< >ke, where < > is any possible letter: \\w (= % in SQL)\n",
        "regex_name.findall ( text ) \n",
        "regex_name.sub (' ' , text  )\n"
      ],
      "execution_count": 12,
      "outputs": [
        {
          "output_type": "execute_result",
          "data": {
            "text/plain": [
              "'b\"WEBVTT I\\'m now going to give you two more example problems of computing. eigendecomposition of matrices by hand. Obviously this is on the computer but I encourage you to do these problems by hand and they\\'re not done in Matlab. So I guess that\\'s what it means by hand. So let\\'s get started. Here is a two by two matrix and you should pause the video go through find the eigenvalues and the eigenvectors of this matrix so the way we start is by shifting the matrix by Lambda so subtracting lambda from the diagonal elements setting the determinant equal to zero and then proceeding to compute the determinant which is also called the characteristic equation of this matrix.\\\\n\\\\n10\\\\n00:48.850 --> 00:57.730\\\\nSo that works out to be three minus lambda times six minus lambda minus four equals zero and then expanding\\\\n\\\\n11\\\\n00:57.760 --> 01:04.600\\\\nthese two terms multiplying out these two terms and then collecting the like terms gives us lambda squared\\\\n\\\\n12\\\\n01:04.960 --> 01:13.930\\\\nminus nine lambda plus fourteen equals zero and then this expression here can be factored into lambda\\\\n\\\\n13\\\\n01:14.020 --> 01:22.150\\\\nminus seven and Lambda minus two and now it\\'s pretty easy to see that the two lambdas that will solve\\\\n\\\\n14\\\\n01:22.150 --> 01:24.280\\\\nthis equation that solve this equation.\\\\n\\\\n15\\\\n01:24.280 --> 01:30.910\\\\nIn other words the two eigenvalues of this matrix are plus 7 and plus two.\\\\n\\\\n16\\\\n01:30.910 --> 01:37.180\\\\nSo that was step one we found the eigenvalues of this matrix and now we go through for each of these\\\\n\\\\n17\\\\n01:37.180 --> 01:45.160\\\\neigenvalues shift the matrix by that amount by that value and then figure out what is a vector in the\\\\n\\\\n18\\\\n01:45.280 --> 01:48.410\\\\nshifted matrices null space.\\\\n\\\\n19\\\\n01:48.630 --> 01:50.530\\\\nOK so let\\'s start with 2.\\\\n\\\\n20\\\\n01:50.580 --> 01:53.610\\\\nSo this gives us the matrix 1 1 4 4.\\\\n\\\\n21\\\\n01:53.610 --> 02:00.360\\\\nAnd now we want to find the missing vector here and you\\'ve probably guessed it already it is 1 minus\\\\n\\\\n22\\\\n02:00.360 --> 02:01.470\\\\n1.\\\\n\\\\n23\\\\n02:01.590 --> 02:09.330\\\\nAnd of course you know that also acceptable would be minus 1 1 or minus quadrillion plus quadrillion.\\\\n\\\\n24\\\\n02:09.570 --> 02:17.130\\\\nThis vector simply identifies a subspace for the null space of this shifted matrix in any vector that\\'s\\\\n\\\\n25\\\\n02:17.250 --> 02:23.520\\\\nin that null space is perfectly fine as an eigenvector.\\\\n\\\\n26\\\\n02:23.520 --> 02:31.860\\\\nNow that said the best choice for an eigenvector would be a vector that has a norm of 1 a magnitude\\\\n\\\\n27\\\\n02:31.860 --> 02:32.710\\\\nof 1.\\\\n\\\\n28\\\\n02:32.940 --> 02:39.270\\\\nAnd the second best choice would be integer values that are easy to interpret and compact to write like\\\\n\\\\n29\\\\n02:39.270 --> 02:40.230\\\\nthis.\\\\n\\\\n30\\\\n02:40.230 --> 02:40.500\\\\nAll right.\\\\n\\\\n31\\\\n02:40.520 --> 02:41.730\\\\nSo this was for two.\\\\n\\\\n32\\\\n02:41.730 --> 02:49.350\\\\nNow we go to the second eigenvalues which was seven and that gives us this matrix minus 4 1 and 4 minus\\\\n\\\\n33\\\\n02:49.350 --> 02:50.300\\\\n1.\\\\n\\\\n34\\\\n02:50.370 --> 02:57.210\\\\nAnd here a vector that could work as an eigenvector as a basis for the null space of this shifted matrix\\\\n\\\\n35\\\\n02:57.300 --> 02:59.790\\\\nis the numbers 1 4.\\\\n\\\\n36\\\\n02:59.820 --> 03:06.690\\\\nSo here is the big picture overview we have this matrix and here you see the eigenvalue and its corresponding\\\\n\\\\n37\\\\n03:06.690 --> 03:12.010\\\\neigenvector and the other eigenvalue and the other corresponding eigenvector.\\\\n\\\\n38\\\\n03:12.060 --> 03:14.080\\\\nNow your results will be correct.\\\\n\\\\n39\\\\n03:14.190 --> 03:21.960\\\\nIf you have the correct pairing of eigenvalue and any multiple any scaled version of this vector; it\\\\n\\\\n40\\\\n03:21.960 --> 03:28.860\\\\ndoesn\\'t matter if you call this lambda one and this V one that\\'s fine because there\\'s no intrinsic ordering.\\\\n\\\\n41\\\\n03:28.860 --> 03:32.250\\\\nWhat matters is that you have the pairing correct.\\\\n\\\\n42\\\\n03:32.250 --> 03:32.470\\\\nAll right.\\\\n\\\\n43\\\\n03:32.490 --> 03:34.310\\\\nSo that was the two by two case.\\\\n\\\\n44\\\\n03:34.380 --> 03:37.080\\\\nNow let\\'s go for a three by three case.\\\\n\\\\n45\\\\n03:37.080 --> 03:40.160\\\\nThis one is a little bit more challenging and I have to admit.\\\\n\\\\n46\\\\n03:40.200 --> 03:45.660\\\\nSo I first came up with these numbers and then I started computing the eigendecomposition.\\\\n\\\\n47\\\\n03:45.660 --> 03:50.480\\\\nNow I have to admit that I got stuck on one of the eigenvectors.\\\\n\\\\n48\\\\n03:50.670 --> 03:52.400\\\\nI couldn\\'t quite figure it out on my own.\\\\n\\\\n49\\\\n03:52.430 --> 03:54.390\\\\nSo I used Matlab to compute that\\\\n\\\\n50\\\\n03:54.390 --> 03:55.200\\\\neigenvector.\\\\n\\\\n51\\\\n03:55.500 --> 04:04.490\\\\nSo what I encourage you to do is find all three eigenvalues by hand and I think it will be pretty obvious\\\\n\\\\n52\\\\n04:04.490 --> 04:08.390\\\\nwhen you start working through it which is the difficult eigenvalue.\\\\n\\\\n53\\\\n04:08.390 --> 04:15.530\\\\nSo then what you should do by hand is find two of the eigenvectors that you can get basically just by\\\\n\\\\n54\\\\n04:15.800 --> 04:18.920\\\\nkind of eyeballing and making some educated guesses.\\\\n\\\\n55\\\\n04:18.920 --> 04:24.860\\\\nAnd then the third eigenvector you can use a computer to solve or you can just wait and watch me come\\\\n\\\\n56\\\\n04:24.860 --> 04:26.660\\\\nup with a solution.\\\\n\\\\n57\\\\n04:26.850 --> 04:27.090\\\\nAll right.\\\\n\\\\n58\\\\n04:27.120 --> 04:34.590\\\\nSo again we start by shifting this matrix by minus lambda setting the determinant equal to zero and\\\\n\\\\n59\\\\n04:34.590 --> 04:40.770\\\\nthen proceeding to compute the determinant of this equation and altogether that gives us the characteristic\\\\n\\\\n60\\\\n04:40.830 --> 04:43.560\\\\nequation of this matrix.\\\\n\\\\n61\\\\n04:43.560 --> 04:45.270\\\\nNow this is a little bit longer.\\\\n\\\\n62\\\\n04:45.270 --> 04:50.820\\\\nIt\\'s a little bit trickier the arithmetic gets a little bit hairy in particular you end up with this\\\\n\\\\n63\\\\n04:50.910 --> 04:59.240\\\\nminus lambda cubed term as well as a couple of multiple terms with Lambda and Lambda squared.\\\\n\\\\n64\\\\n04:59.250 --> 05:05.490\\\\nNow once you collect all of these like terms you\\'ll end up with an expression that looks like this.\\\\n\\\\n65\\\\n05:05.520 --> 05:15.240\\\\nSo it should be minus lambda cubed plus 10 times lambda squared plus eleven lambda equals zero Now something\\\\n\\\\n66\\\\n05:15.270 --> 05:22.030\\\\ninteresting has happened here all of these terms have a lambda attached to them which means that we\\\\n\\\\n67\\\\n05:22.030 --> 05:29.950\\\\ncan take a lambda out of each of these terms and rewrite this expression as minus lambda times.\\\\n\\\\n68\\\\n05:29.980 --> 05:36.160\\\\nAll of this stuff and immediately that tells us that lambda equals zero is a solution.\\\\n\\\\n69\\\\n05:36.160 --> 05:43.030\\\\nSo when you set this lambda to be zero it doesn\\'t actually matter what\\'s inside this parenthetical statement\\\\n\\\\n70\\\\n05:43.360 --> 05:47.390\\\\nthat\\'s immediately going to set to make this equation true.\\\\n\\\\n71\\\\n05:47.440 --> 05:55.300\\\\nThat means that one of the eigenvalues of this matrix is zero and I\\'m going to have an entire video\\\\n\\\\n72\\\\n05:55.330 --> 05:59.140\\\\njust about this phenomenon a little bit later in this section.\\\\n\\\\n73\\\\n05:59.140 --> 06:03.550\\\\nBut essentially when an eigenvector is an eigenvalue is zero.\\\\n\\\\n74\\\\n06:03.730 --> 06:10.360\\\\nIt means that the matrix is singular and that you can actually see by looking at this matrix and you\\\\n\\\\n75\\\\n06:10.360 --> 06:19.080\\\\nsee that column 1 plus column 2 equals column 3 so whenever you have a singular matrix at least one\\\\n\\\\n76\\\\n06:19.140 --> 06:22.110\\\\neigenvalues value is going to be equal to zero.\\\\n\\\\n77\\\\n06:22.170 --> 06:30.450\\\\nAnd in fact the number of eigenvalues that are equal to zero tells you about the rank of this matrix.\\\\n\\\\n78\\\\n06:30.490 --> 06:33.870\\\\nMore on that in the later video.\\\\n\\\\n79\\\\n06:33.880 --> 06:39.160\\\\nNow once you\\'ve gotten to this step you can further factor this equation and you end up with the result\\\\n\\\\n80\\\\n06:39.160 --> 06:44.360\\\\nthat lambda equals zero lambda equals minus 1 and Lambda equals eleven.\\\\n\\\\n81\\\\n06:44.590 --> 06:50.110\\\\nSo you can probably guess that this is going to be the tricky I can value to compute the corresponding\\\\n\\\\n82\\\\n06:50.110 --> 06:55.600\\\\nI can vector of and this is the one that I got a little bit stuck with.\\\\n\\\\n83\\\\n06:55.600 --> 06:57.490\\\\nAnd so I used Matlab as a crutch.\\\\n\\\\n84\\\\n06:57.490 --> 06:58.540\\\\nI cheated a little bit.\\\\n\\\\n85\\\\n06:59.250 --> 07:01.500\\\\nOK so but let\\'s go through all of these.\\\\n\\\\n86\\\\n07:01.840 --> 07:07.840\\\\nSo we start with zero and now this is kind of a funny thing because we are shifting the matrix by zero\\\\n\\\\n87\\\\n07:08.200 --> 07:10.970\\\\nwhich actually means we\\'re not changing the matrix at all.\\\\n\\\\n88\\\\n07:11.140 --> 07:21.000\\\\nAnd that means that this matrix A already has a non-trivial null space even without doing any shifting.\\\\n\\\\n89\\\\n07:21.130 --> 07:28.010\\\\nSo this problem actually boils down to finding a vector in the null space or a basis for the null space.\\\\n\\\\n90\\\\n07:28.270 --> 07:35.380\\\\nEven without doing any shifting so based on what I just told you about how do I set up this matrix that\\\\n\\\\n91\\\\n07:35.660 --> 07:42.950\\\\ncolumn one plus column two equals column three a basis for the null space is 1 one minus 1.\\\\n\\\\n92\\\\n07:42.970 --> 07:49.130\\\\nSo you can try for each of these rows the first column plus the second column minus the third column\\\\n\\\\n93\\\\n07:49.220 --> 07:52.090\\\\nequals zero all right.\\\\n\\\\n94\\\\n07:52.100 --> 07:53.270\\\\nSo now let\\'s move on.\\\\n\\\\n95\\\\n07:53.270 --> 07:59.350\\\\nSo now we shift this matrix by eleven and this is basically where I got stuck and switch to matlab.\\\\n\\\\n96\\\\n07:59.360 --> 08:04.570\\\\nSo it turns out that eigenvector is nineteen forty one and thirty six.\\\\n\\\\n97\\\\n08:04.580 --> 08:10.430\\\\nSo if you figured out this I can vector on your own without using a computer then good for you you are\\\\n\\\\n98\\\\n08:10.460 --> 08:14.960\\\\na better or at least more patient mathematician than I am.\\\\n\\\\n99\\\\n08:15.200 --> 08:19.210\\\\nAnd then we get to the third eigenvalue which was minus one.\\\\n\\\\n100\\\\n08:19.220 --> 08:21.130\\\\nSo now that becomes plus one.\\\\n\\\\n101\\\\n08:21.230 --> 08:26.390\\\\nAnd here is that shifted matrix and this one you should be able to solve on your own.\\\\n\\\\n102\\\\n08:26.480 --> 08:28.810\\\\nIn fact it\\'s even easier than it looks.\\\\n\\\\n103\\\\n08:28.820 --> 08:35.930\\\\nAnd if you need a hint before I show the answer then the hint is just consider that this third column\\\\n\\\\n104\\\\n08:36.020 --> 08:42.340\\\\nis actually pretty useless if you get rid of this third column it becomes really easy to find the \\\\n\\\\n105\\\\n08:42.380 --> 08:46.520\\\\neigenvector in this shifted matrices null space.\\\\n\\\\n106\\\\n08:46.790 --> 08:52.400\\\\nSo in fact it\\'s one minus one and then zero you just set the third element to be zero.\\\\n\\\\n107\\\\n08:52.670 --> 08:59.810\\\\nSo that leads us to the big picture overview of the eigendecomposition of this three by three singular\\\\n\\\\n108\\\\n08:59.810 --> 09:06.130\\\\nmatrix rank 2 matrix we have eigenvalues 0 minus 11 and minus 1.\\\\n\\\\n109\\\\n09:06.200 --> 09:09.200\\\\nAnd these are the corresponding eigenvectors.\\\\n\\\\n110\\\\n09:09.200 --> 09:12.430\\\\nAnd notice I\\'ve written them as row vectors and then transpose.\\\\n\\\\n111\\\\n09:12.430 --> 09:19.160\\\\nSo these are still column vectors we generally always think about eigenvectors as column vectors and\\\\n\\\\n112\\\\n09:19.160 --> 09:25.640\\\\nyou will learn more about why that is the case in the video on diagonalization, which is coming up soon.\"'"
            ],
            "application/vnd.google.colaboratory.intrinsic+json": {
              "type": "string"
            }
          },
          "metadata": {},
          "execution_count": 12
        }
      ]
    },
    {
      "cell_type": "code",
      "metadata": {
        "id": "7zjfFlxyp-zk"
      },
      "source": [
        "# same as above but with any repeats of the number (\\d)\n",
        "pattern2replace2 = r'\\\\n\\\\n\\d{1,3}\\\\n\\d\\d:\\d\\d.\\d\\d\\d --> \\d\\d:\\d\\d.\\d\\d\\d\\\\n'\n",
        "# pattern2replace2 = r'\\\\n\\\\n\\w --> '\n",
        "\n",
        "regex_timestamps = re.compile('%s'%pattern2replace2)\n",
        "regex_timestamps.findall(text)\n",
        "\n",
        "newtext = regex_timestamps.sub(' ',text)"
      ],
      "execution_count": 13,
      "outputs": []
    },
    {
      "cell_type": "code",
      "metadata": {
        "id": "ESg7tsK9fBde",
        "colab": {
          "base_uri": "https://localhost:8080/"
        },
        "outputId": "ae9426d3-7a76-452c-8b99-9db1c8588f2a"
      },
      "source": [
        "# confirm that it works and call the new variable 'newtext'\n",
        "# %% [code]\n",
        "\n",
        "print(newtext)\n",
        "\n",
        "newtext = newtext[9:-2]\n",
        "print(' ')\n",
        "print(newtext)"
      ],
      "execution_count": 14,
      "outputs": [
        {
          "output_type": "stream",
          "name": "stdout",
          "text": [
            "b\"WEBVTT I'm now going to give you two more example problems of computing. eigendecomposition of matrices by hand. Obviously this is on the computer but I encourage you to do these problems by hand and they're not done in Matlab. So I guess that's what it means by hand. So let's get started. Here is a two by two matrix and you should pause the video go through find the eigenvalues and the eigenvectors of this matrix so the way we start is by shifting the matrix by Lambda so subtracting lambda from the diagonal elements setting the determinant equal to zero and then proceeding to compute the determinant which is also called the characteristic equation of this matrix. So that works out to be three minus lambda times six minus lambda minus four equals zero and then expanding these two terms multiplying out these two terms and then collecting the like terms gives us lambda squared minus nine lambda plus fourteen equals zero and then this expression here can be factored into lambda minus seven and Lambda minus two and now it's pretty easy to see that the two lambdas that will solve this equation that solve this equation. In other words the two eigenvalues of this matrix are plus 7 and plus two. So that was step one we found the eigenvalues of this matrix and now we go through for each of these eigenvalues shift the matrix by that amount by that value and then figure out what is a vector in the shifted matrices null space. OK so let's start with 2. So this gives us the matrix 1 1 4 4. And now we want to find the missing vector here and you've probably guessed it already it is 1 minus 1. And of course you know that also acceptable would be minus 1 1 or minus quadrillion plus quadrillion. This vector simply identifies a subspace for the null space of this shifted matrix in any vector that's in that null space is perfectly fine as an eigenvector. Now that said the best choice for an eigenvector would be a vector that has a norm of 1 a magnitude of 1. And the second best choice would be integer values that are easy to interpret and compact to write like this. All right. So this was for two. Now we go to the second eigenvalues which was seven and that gives us this matrix minus 4 1 and 4 minus 1. And here a vector that could work as an eigenvector as a basis for the null space of this shifted matrix is the numbers 1 4. So here is the big picture overview we have this matrix and here you see the eigenvalue and its corresponding eigenvector and the other eigenvalue and the other corresponding eigenvector. Now your results will be correct. If you have the correct pairing of eigenvalue and any multiple any scaled version of this vector; it doesn't matter if you call this lambda one and this V one that's fine because there's no intrinsic ordering. What matters is that you have the pairing correct. All right. So that was the two by two case. Now let's go for a three by three case. This one is a little bit more challenging and I have to admit. So I first came up with these numbers and then I started computing the eigendecomposition. Now I have to admit that I got stuck on one of the eigenvectors. I couldn't quite figure it out on my own. So I used Matlab to compute that eigenvector. So what I encourage you to do is find all three eigenvalues by hand and I think it will be pretty obvious when you start working through it which is the difficult eigenvalue. So then what you should do by hand is find two of the eigenvectors that you can get basically just by kind of eyeballing and making some educated guesses. And then the third eigenvector you can use a computer to solve or you can just wait and watch me come up with a solution. All right. So again we start by shifting this matrix by minus lambda setting the determinant equal to zero and then proceeding to compute the determinant of this equation and altogether that gives us the characteristic equation of this matrix. Now this is a little bit longer. It's a little bit trickier the arithmetic gets a little bit hairy in particular you end up with this minus lambda cubed term as well as a couple of multiple terms with Lambda and Lambda squared. Now once you collect all of these like terms you'll end up with an expression that looks like this. So it should be minus lambda cubed plus 10 times lambda squared plus eleven lambda equals zero Now something interesting has happened here all of these terms have a lambda attached to them which means that we can take a lambda out of each of these terms and rewrite this expression as minus lambda times. All of this stuff and immediately that tells us that lambda equals zero is a solution. So when you set this lambda to be zero it doesn't actually matter what's inside this parenthetical statement that's immediately going to set to make this equation true. That means that one of the eigenvalues of this matrix is zero and I'm going to have an entire video just about this phenomenon a little bit later in this section. But essentially when an eigenvector is an eigenvalue is zero. It means that the matrix is singular and that you can actually see by looking at this matrix and you see that column 1 plus column 2 equals column 3 so whenever you have a singular matrix at least one eigenvalues value is going to be equal to zero. And in fact the number of eigenvalues that are equal to zero tells you about the rank of this matrix. More on that in the later video. Now once you've gotten to this step you can further factor this equation and you end up with the result that lambda equals zero lambda equals minus 1 and Lambda equals eleven. So you can probably guess that this is going to be the tricky I can value to compute the corresponding I can vector of and this is the one that I got a little bit stuck with. And so I used Matlab as a crutch. I cheated a little bit. OK so but let's go through all of these. So we start with zero and now this is kind of a funny thing because we are shifting the matrix by zero which actually means we're not changing the matrix at all. And that means that this matrix A already has a non-trivial null space even without doing any shifting. So this problem actually boils down to finding a vector in the null space or a basis for the null space. Even without doing any shifting so based on what I just told you about how do I set up this matrix that column one plus column two equals column three a basis for the null space is 1 one minus 1. So you can try for each of these rows the first column plus the second column minus the third column equals zero all right. So now let's move on. So now we shift this matrix by eleven and this is basically where I got stuck and switch to matlab. So it turns out that eigenvector is nineteen forty one and thirty six. So if you figured out this I can vector on your own without using a computer then good for you you are a better or at least more patient mathematician than I am. And then we get to the third eigenvalue which was minus one. So now that becomes plus one. And here is that shifted matrix and this one you should be able to solve on your own. In fact it's even easier than it looks. And if you need a hint before I show the answer then the hint is just consider that this third column is actually pretty useless if you get rid of this third column it becomes really easy to find the  eigenvector in this shifted matrices null space. So in fact it's one minus one and then zero you just set the third element to be zero. So that leads us to the big picture overview of the eigendecomposition of this three by three singular matrix rank 2 matrix we have eigenvalues 0 minus 11 and minus 1. And these are the corresponding eigenvectors. And notice I've written them as row vectors and then transpose. So these are still column vectors we generally always think about eigenvectors as column vectors and you will learn more about why that is the case in the video on diagonalization, which is coming up soon.\"\n",
            " \n",
            "I'm now going to give you two more example problems of computing. eigendecomposition of matrices by hand. Obviously this is on the computer but I encourage you to do these problems by hand and they're not done in Matlab. So I guess that's what it means by hand. So let's get started. Here is a two by two matrix and you should pause the video go through find the eigenvalues and the eigenvectors of this matrix so the way we start is by shifting the matrix by Lambda so subtracting lambda from the diagonal elements setting the determinant equal to zero and then proceeding to compute the determinant which is also called the characteristic equation of this matrix. So that works out to be three minus lambda times six minus lambda minus four equals zero and then expanding these two terms multiplying out these two terms and then collecting the like terms gives us lambda squared minus nine lambda plus fourteen equals zero and then this expression here can be factored into lambda minus seven and Lambda minus two and now it's pretty easy to see that the two lambdas that will solve this equation that solve this equation. In other words the two eigenvalues of this matrix are plus 7 and plus two. So that was step one we found the eigenvalues of this matrix and now we go through for each of these eigenvalues shift the matrix by that amount by that value and then figure out what is a vector in the shifted matrices null space. OK so let's start with 2. So this gives us the matrix 1 1 4 4. And now we want to find the missing vector here and you've probably guessed it already it is 1 minus 1. And of course you know that also acceptable would be minus 1 1 or minus quadrillion plus quadrillion. This vector simply identifies a subspace for the null space of this shifted matrix in any vector that's in that null space is perfectly fine as an eigenvector. Now that said the best choice for an eigenvector would be a vector that has a norm of 1 a magnitude of 1. And the second best choice would be integer values that are easy to interpret and compact to write like this. All right. So this was for two. Now we go to the second eigenvalues which was seven and that gives us this matrix minus 4 1 and 4 minus 1. And here a vector that could work as an eigenvector as a basis for the null space of this shifted matrix is the numbers 1 4. So here is the big picture overview we have this matrix and here you see the eigenvalue and its corresponding eigenvector and the other eigenvalue and the other corresponding eigenvector. Now your results will be correct. If you have the correct pairing of eigenvalue and any multiple any scaled version of this vector; it doesn't matter if you call this lambda one and this V one that's fine because there's no intrinsic ordering. What matters is that you have the pairing correct. All right. So that was the two by two case. Now let's go for a three by three case. This one is a little bit more challenging and I have to admit. So I first came up with these numbers and then I started computing the eigendecomposition. Now I have to admit that I got stuck on one of the eigenvectors. I couldn't quite figure it out on my own. So I used Matlab to compute that eigenvector. So what I encourage you to do is find all three eigenvalues by hand and I think it will be pretty obvious when you start working through it which is the difficult eigenvalue. So then what you should do by hand is find two of the eigenvectors that you can get basically just by kind of eyeballing and making some educated guesses. And then the third eigenvector you can use a computer to solve or you can just wait and watch me come up with a solution. All right. So again we start by shifting this matrix by minus lambda setting the determinant equal to zero and then proceeding to compute the determinant of this equation and altogether that gives us the characteristic equation of this matrix. Now this is a little bit longer. It's a little bit trickier the arithmetic gets a little bit hairy in particular you end up with this minus lambda cubed term as well as a couple of multiple terms with Lambda and Lambda squared. Now once you collect all of these like terms you'll end up with an expression that looks like this. So it should be minus lambda cubed plus 10 times lambda squared plus eleven lambda equals zero Now something interesting has happened here all of these terms have a lambda attached to them which means that we can take a lambda out of each of these terms and rewrite this expression as minus lambda times. All of this stuff and immediately that tells us that lambda equals zero is a solution. So when you set this lambda to be zero it doesn't actually matter what's inside this parenthetical statement that's immediately going to set to make this equation true. That means that one of the eigenvalues of this matrix is zero and I'm going to have an entire video just about this phenomenon a little bit later in this section. But essentially when an eigenvector is an eigenvalue is zero. It means that the matrix is singular and that you can actually see by looking at this matrix and you see that column 1 plus column 2 equals column 3 so whenever you have a singular matrix at least one eigenvalues value is going to be equal to zero. And in fact the number of eigenvalues that are equal to zero tells you about the rank of this matrix. More on that in the later video. Now once you've gotten to this step you can further factor this equation and you end up with the result that lambda equals zero lambda equals minus 1 and Lambda equals eleven. So you can probably guess that this is going to be the tricky I can value to compute the corresponding I can vector of and this is the one that I got a little bit stuck with. And so I used Matlab as a crutch. I cheated a little bit. OK so but let's go through all of these. So we start with zero and now this is kind of a funny thing because we are shifting the matrix by zero which actually means we're not changing the matrix at all. And that means that this matrix A already has a non-trivial null space even without doing any shifting. So this problem actually boils down to finding a vector in the null space or a basis for the null space. Even without doing any shifting so based on what I just told you about how do I set up this matrix that column one plus column two equals column three a basis for the null space is 1 one minus 1. So you can try for each of these rows the first column plus the second column minus the third column equals zero all right. So now let's move on. So now we shift this matrix by eleven and this is basically where I got stuck and switch to matlab. So it turns out that eigenvector is nineteen forty one and thirty six. So if you figured out this I can vector on your own without using a computer then good for you you are a better or at least more patient mathematician than I am. And then we get to the third eigenvalue which was minus one. So now that becomes plus one. And here is that shifted matrix and this one you should be able to solve on your own. In fact it's even easier than it looks. And if you need a hint before I show the answer then the hint is just consider that this third column is actually pretty useless if you get rid of this third column it becomes really easy to find the  eigenvector in this shifted matrices null space. So in fact it's one minus one and then zero you just set the third element to be zero. So that leads us to the big picture overview of the eigendecomposition of this three by three singular matrix rank 2 matrix we have eigenvalues 0 minus 11 and minus 1. And these are the corresponding eigenvectors. And notice I've written them as row vectors and then transpose. So these are still column vectors we generally always think about eigenvectors as column vectors and you will learn more about why that is the case in the video on diagonalization, which is coming up soon\n"
          ]
        }
      ]
    },
    {
      "cell_type": "code",
      "metadata": {
        "id": "eicYTOb1-svq",
        "colab": {
          "base_uri": "https://localhost:8080/",
          "height": 140
        },
        "outputId": "86faabe1-3ce2-4399-8c8e-ba119cfd15fe"
      },
      "source": [
        "newtext"
      ],
      "execution_count": 15,
      "outputs": [
        {
          "output_type": "execute_result",
          "data": {
            "text/plain": [
              "\"I'm now going to give you two more example problems of computing. eigendecomposition of matrices by hand. Obviously this is on the computer but I encourage you to do these problems by hand and they're not done in Matlab. So I guess that's what it means by hand. So let's get started. Here is a two by two matrix and you should pause the video go through find the eigenvalues and the eigenvectors of this matrix so the way we start is by shifting the matrix by Lambda so subtracting lambda from the diagonal elements setting the determinant equal to zero and then proceeding to compute the determinant which is also called the characteristic equation of this matrix. So that works out to be three minus lambda times six minus lambda minus four equals zero and then expanding these two terms multiplying out these two terms and then collecting the like terms gives us lambda squared minus nine lambda plus fourteen equals zero and then this expression here can be factored into lambda minus seven and Lambda minus two and now it's pretty easy to see that the two lambdas that will solve this equation that solve this equation. In other words the two eigenvalues of this matrix are plus 7 and plus two. So that was step one we found the eigenvalues of this matrix and now we go through for each of these eigenvalues shift the matrix by that amount by that value and then figure out what is a vector in the shifted matrices null space. OK so let's start with 2. So this gives us the matrix 1 1 4 4. And now we want to find the missing vector here and you've probably guessed it already it is 1 minus 1. And of course you know that also acceptable would be minus 1 1 or minus quadrillion plus quadrillion. This vector simply identifies a subspace for the null space of this shifted matrix in any vector that's in that null space is perfectly fine as an eigenvector. Now that said the best choice for an eigenvector would be a vector that has a norm of 1 a magnitude of 1. And the second best choice would be integer values that are easy to interpret and compact to write like this. All right. So this was for two. Now we go to the second eigenvalues which was seven and that gives us this matrix minus 4 1 and 4 minus 1. And here a vector that could work as an eigenvector as a basis for the null space of this shifted matrix is the numbers 1 4. So here is the big picture overview we have this matrix and here you see the eigenvalue and its corresponding eigenvector and the other eigenvalue and the other corresponding eigenvector. Now your results will be correct. If you have the correct pairing of eigenvalue and any multiple any scaled version of this vector; it doesn't matter if you call this lambda one and this V one that's fine because there's no intrinsic ordering. What matters is that you have the pairing correct. All right. So that was the two by two case. Now let's go for a three by three case. This one is a little bit more challenging and I have to admit. So I first came up with these numbers and then I started computing the eigendecomposition. Now I have to admit that I got stuck on one of the eigenvectors. I couldn't quite figure it out on my own. So I used Matlab to compute that eigenvector. So what I encourage you to do is find all three eigenvalues by hand and I think it will be pretty obvious when you start working through it which is the difficult eigenvalue. So then what you should do by hand is find two of the eigenvectors that you can get basically just by kind of eyeballing and making some educated guesses. And then the third eigenvector you can use a computer to solve or you can just wait and watch me come up with a solution. All right. So again we start by shifting this matrix by minus lambda setting the determinant equal to zero and then proceeding to compute the determinant of this equation and altogether that gives us the characteristic equation of this matrix. Now this is a little bit longer. It's a little bit trickier the arithmetic gets a little bit hairy in particular you end up with this minus lambda cubed term as well as a couple of multiple terms with Lambda and Lambda squared. Now once you collect all of these like terms you'll end up with an expression that looks like this. So it should be minus lambda cubed plus 10 times lambda squared plus eleven lambda equals zero Now something interesting has happened here all of these terms have a lambda attached to them which means that we can take a lambda out of each of these terms and rewrite this expression as minus lambda times. All of this stuff and immediately that tells us that lambda equals zero is a solution. So when you set this lambda to be zero it doesn't actually matter what's inside this parenthetical statement that's immediately going to set to make this equation true. That means that one of the eigenvalues of this matrix is zero and I'm going to have an entire video just about this phenomenon a little bit later in this section. But essentially when an eigenvector is an eigenvalue is zero. It means that the matrix is singular and that you can actually see by looking at this matrix and you see that column 1 plus column 2 equals column 3 so whenever you have a singular matrix at least one eigenvalues value is going to be equal to zero. And in fact the number of eigenvalues that are equal to zero tells you about the rank of this matrix. More on that in the later video. Now once you've gotten to this step you can further factor this equation and you end up with the result that lambda equals zero lambda equals minus 1 and Lambda equals eleven. So you can probably guess that this is going to be the tricky I can value to compute the corresponding I can vector of and this is the one that I got a little bit stuck with. And so I used Matlab as a crutch. I cheated a little bit. OK so but let's go through all of these. So we start with zero and now this is kind of a funny thing because we are shifting the matrix by zero which actually means we're not changing the matrix at all. And that means that this matrix A already has a non-trivial null space even without doing any shifting. So this problem actually boils down to finding a vector in the null space or a basis for the null space. Even without doing any shifting so based on what I just told you about how do I set up this matrix that column one plus column two equals column three a basis for the null space is 1 one minus 1. So you can try for each of these rows the first column plus the second column minus the third column equals zero all right. So now let's move on. So now we shift this matrix by eleven and this is basically where I got stuck and switch to matlab. So it turns out that eigenvector is nineteen forty one and thirty six. So if you figured out this I can vector on your own without using a computer then good for you you are a better or at least more patient mathematician than I am. And then we get to the third eigenvalue which was minus one. So now that becomes plus one. And here is that shifted matrix and this one you should be able to solve on your own. In fact it's even easier than it looks. And if you need a hint before I show the answer then the hint is just consider that this third column is actually pretty useless if you get rid of this third column it becomes really easy to find the  eigenvector in this shifted matrices null space. So in fact it's one minus one and then zero you just set the third element to be zero. So that leads us to the big picture overview of the eigendecomposition of this three by three singular matrix rank 2 matrix we have eigenvalues 0 minus 11 and minus 1. And these are the corresponding eigenvectors. And notice I've written them as row vectors and then transpose. So these are still column vectors we generally always think about eigenvectors as column vectors and you will learn more about why that is the case in the video on diagonalization, which is coming up soon\""
            ],
            "application/vnd.google.colaboratory.intrinsic+json": {
              "type": "string"
            }
          },
          "metadata": {},
          "execution_count": 15
        }
      ]
    },
    {
      "cell_type": "markdown",
      "metadata": {
        "id": "UnWVkgjNAS0W"
      },
      "source": [
        "# Replace 4-letter words and save to disk"
      ]
    },
    {
      "cell_type": "code",
      "metadata": {
        "id": "XYk7QPxjr7qy",
        "colab": {
          "base_uri": "https://localhost:8080/",
          "height": 51
        },
        "outputId": "f646dbe1-2fd7-428a-97e7-0d0af784dae9"
      },
      "source": [
        "# convert newtext to words\n",
        "len ( newtext )\n",
        "\n",
        "split_words = newtext.split()\n",
        "\n",
        "print ( type (split_words) )\n",
        "print ( len (split_words ))\n",
        "\n",
        "for word_i in range ( len (split_words)) :\n",
        "  if len (split_words [ word_i ] ) ==4 \\\n",
        "      and not split_words [ word_i ] [-1] == '.' \\\n",
        "      and not split_words [ word_i ] [-2] == \"'\"\\\n",
        "      and (split_words [ word_i ] [0] + split_words [ word_i ] [1] + split_words [ word_i ] [2]) == 'zer' :\n",
        "      \n",
        "    # print ( split_words [word_i] )\n",
        "    split_words [word_i] = split_words [word_i] [0] + '***'\n",
        "  # print ( split_words [word_i])\n",
        "\n",
        "cleantext = ' '.join (split_words)\n",
        "cleantext\n",
        "\n",
        "with open ( 'Cleaned Transcript Sample.txt', 'w') as f :\n",
        "  f.write ( cleantext )\n",
        "files.download ('Cleaned Transcript Sample.txt')\n"
      ],
      "execution_count": 103,
      "outputs": [
        {
          "output_type": "stream",
          "name": "stdout",
          "text": [
            "<class 'list'>\n",
            "1498\n"
          ]
        },
        {
          "output_type": "display_data",
          "data": {
            "text/plain": [
              "<IPython.core.display.Javascript object>"
            ],
            "application/javascript": [
              "\n",
              "    async function download(id, filename, size) {\n",
              "      if (!google.colab.kernel.accessAllowed) {\n",
              "        return;\n",
              "      }\n",
              "      const div = document.createElement('div');\n",
              "      const label = document.createElement('label');\n",
              "      label.textContent = `Downloading \"${filename}\": `;\n",
              "      div.appendChild(label);\n",
              "      const progress = document.createElement('progress');\n",
              "      progress.max = size;\n",
              "      div.appendChild(progress);\n",
              "      document.body.appendChild(div);\n",
              "\n",
              "      const buffers = [];\n",
              "      let downloaded = 0;\n",
              "\n",
              "      const channel = await google.colab.kernel.comms.open(id);\n",
              "      // Send a message to notify the kernel that we're ready.\n",
              "      channel.send({})\n",
              "\n",
              "      for await (const message of channel.messages) {\n",
              "        // Send a message to notify the kernel that we're ready.\n",
              "        channel.send({})\n",
              "        if (message.buffers) {\n",
              "          for (const buffer of message.buffers) {\n",
              "            buffers.push(buffer);\n",
              "            downloaded += buffer.byteLength;\n",
              "            progress.value = downloaded;\n",
              "          }\n",
              "        }\n",
              "      }\n",
              "      const blob = new Blob(buffers, {type: 'application/binary'});\n",
              "      const a = document.createElement('a');\n",
              "      a.href = window.URL.createObjectURL(blob);\n",
              "      a.download = filename;\n",
              "      div.appendChild(a);\n",
              "      a.click();\n",
              "      div.remove();\n",
              "    }\n",
              "  "
            ]
          },
          "metadata": {}
        },
        {
          "output_type": "display_data",
          "data": {
            "text/plain": [
              "<IPython.core.display.Javascript object>"
            ],
            "application/javascript": [
              "download(\"download_b0410eed-0ecc-4862-b324-c42a8cd32c9f\", \"Cleaned Transcript Sample.txt\", 7940)"
            ]
          },
          "metadata": {}
        }
      ]
    },
    {
      "cell_type": "code",
      "metadata": {
        "id": "1AroQEgXgtYl"
      },
      "source": [
        "# count the number of letters in each word\n",
        "\n",
        "# find all 4-letter words and replace with the first letter + ***.\n",
        "# example: duck -> d***\n"
      ],
      "execution_count": null,
      "outputs": []
    },
    {
      "cell_type": "code",
      "metadata": {
        "id": "Xngzuvi2jLIm"
      },
      "source": [
        "# put back together from separate words into one string\n"
      ],
      "execution_count": null,
      "outputs": []
    },
    {
      "cell_type": "code",
      "metadata": {
        "id": "4iFSa-pqjn6G"
      },
      "source": [
        "# Save back to disk\n",
        "# with open('clean_transcript.txt','w') as f:\n",
        "#   f.write(cleantext)\n",
        "\n",
        "# files.download('clean_transcript.txt')"
      ],
      "execution_count": null,
      "outputs": []
    },
    {
      "cell_type": "markdown",
      "metadata": {
        "id": "cEYUxH2OAizE"
      },
      "source": [
        "# Bonus: Readability of scrambled words"
      ]
    },
    {
      "cell_type": "code",
      "metadata": {
        "id": "FyqGIL85mAW8"
      },
      "source": [
        "# A sentence\n",
        "text = \"I have often wondered whether it's possible to read an entire book faster if the useless letters were removed.\"\n"
      ],
      "execution_count": 105,
      "outputs": []
    },
    {
      "cell_type": "code",
      "metadata": {
        "id": "f1hfXeOFnbXw",
        "colab": {
          "base_uri": "https://localhost:8080/",
          "height": 37
        },
        "outputId": "31a2307d-7e40-495a-b2da-971d9c6a2c6a"
      },
      "source": [
        "# split the text into words\n",
        "\n",
        "words = text.split()\n",
        "\n",
        "for i in range ( len (words) ) :\n",
        "  this_word = words [i]\n",
        "  idx = np.random.permutation(len(this_word))\n",
        "  words [i] = ''.join ( this_word [i] for i in idx )\n",
        "\n",
        "' '.join ( words )\n",
        "\n"
      ],
      "execution_count": 139,
      "outputs": [
        {
          "output_type": "execute_result",
          "data": {
            "text/plain": [
              "\"I evha tfoen owrdened rteewhh tis' sbolpeis to edra an rneeti kobo terfsa if eth elessus ettlsre rewe emevdr.o\""
            ],
            "application/vnd.google.colaboratory.intrinsic+json": {
              "type": "string"
            }
          },
          "metadata": {},
          "execution_count": 139
        }
      ]
    },
    {
      "cell_type": "code",
      "metadata": {
        "id": "ILrxpFoAxpb3",
        "colab": {
          "base_uri": "https://localhost:8080/",
          "height": 37
        },
        "outputId": "07c381fb-b142-4880-f6a2-7a5d562c1b1c"
      },
      "source": [
        "# randomly scramble all letters within each word\n",
        "\n",
        "words = text.split()\n",
        "\n",
        "for i in range ( len (words)) :\n",
        "\n",
        "  if len (words [i]) < 4 :\n",
        "    continue\n",
        "\n",
        "  this_word = words [i] [1 : -1]\n",
        "  idx = np.random.permutation(len(this_word))\n",
        "  words [i] = words [i] [0] + ''.join ( this_word [i] for i in idx ) + words [i] [-1]\n",
        "\n",
        "' '.join ( words )\n"
      ],
      "execution_count": 144,
      "outputs": [
        {
          "output_type": "execute_result",
          "data": {
            "text/plain": [
              "\"I have oeftn wnredeod wheethr i'ts pbilsose to raed an enitre book faetsr if the ulesses lrettes wree rvmedeo.\""
            ],
            "application/vnd.google.colaboratory.intrinsic+json": {
              "type": "string"
            }
          },
          "metadata": {},
          "execution_count": 144
        }
      ]
    },
    {
      "cell_type": "code",
      "metadata": {
        "id": "USGdCKm3xUZo",
        "colab": {
          "base_uri": "https://localhost:8080/",
          "height": 37
        },
        "outputId": "1e36635b-ecab-492c-fdce-4b145aa2989f"
      },
      "source": [
        "# replace with random letters\n",
        "import string \n",
        "\n",
        "abc = string.ascii_lowercase\n",
        "\n",
        "words = text.split()\n",
        "\n",
        "for i in range ( len (words)) :\n",
        "\n",
        "  if len (words [i]) < 4 :\n",
        "    continue\n",
        "\n",
        "  this_word = words [i] [1 : -1]\n",
        "  idx = np.random.randint(0, high = len(abc), size = len (this_word))\n",
        "  words [i] = words [i] [0] + ''.join ( abc [i] for i in idx ) + words [i] [-1]\n",
        "\n",
        "' '.join ( words )\n"
      ],
      "execution_count": 153,
      "outputs": [
        {
          "output_type": "execute_result",
          "data": {
            "text/plain": [
              "'I hyze oxzhn wgfztqod wneybyr itxs pfrbvzme to rffd an edmsqe bobk fmsbbr if the uslngbs lumyybs wlee ridixmd.'"
            ],
            "application/vnd.google.colaboratory.intrinsic+json": {
              "type": "string"
            }
          },
          "metadata": {},
          "execution_count": 153
        }
      ]
    }
  ]
}